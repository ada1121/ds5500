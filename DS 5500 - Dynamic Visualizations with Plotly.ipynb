{
 "cells": [
  {
   "cell_type": "code",
   "execution_count": 8,
   "metadata": {},
   "outputs": [
    {
     "data": {
      "text/html": [
       "\n",
       "        <iframe\n",
       "            width=\"700\"\n",
       "            height=\"350\"\n",
       "            src=\"http://stackoverflow.org\"\n",
       "            frameborder=\"0\"\n",
       "            allowfullscreen\n",
       "        ></iframe>\n",
       "        "
      ],
      "text/plain": [
       "<IPython.lib.display.IFrame at 0x11d1a3c88>"
      ]
     },
     "execution_count": 8,
     "metadata": {},
     "output_type": "execute_result"
    }
   ],
   "source": [
    "import pandas as pd\n",
    "import numpy as np\n",
    "import matplotlib.pyplot as plt\n",
    "\n",
    "import plotly.plotly as py\n",
    "import plotly.graph_objs as go\n",
    "\n",
    "from IPython.display import IFrame\n"
   ]
  },
  {
   "cell_type": "markdown",
   "metadata": {},
   "source": [
    "# Load Data"
   ]
  },
  {
   "cell_type": "code",
   "execution_count": 2,
   "metadata": {
    "scrolled": false
   },
   "outputs": [
    {
     "data": {
      "text/html": [
       "<div>\n",
       "<style scoped>\n",
       "    .dataframe tbody tr th:only-of-type {\n",
       "        vertical-align: middle;\n",
       "    }\n",
       "\n",
       "    .dataframe tbody tr th {\n",
       "        vertical-align: top;\n",
       "    }\n",
       "\n",
       "    .dataframe thead th {\n",
       "        text-align: right;\n",
       "    }\n",
       "</style>\n",
       "<table border=\"1\" class=\"dataframe\">\n",
       "  <thead>\n",
       "    <tr style=\"text-align: right;\">\n",
       "      <th></th>\n",
       "      <th>date</th>\n",
       "      <th>symbol</th>\n",
       "      <th>open</th>\n",
       "      <th>close</th>\n",
       "      <th>low</th>\n",
       "      <th>high</th>\n",
       "      <th>volume</th>\n",
       "      <th>year</th>\n",
       "      <th>month</th>\n",
       "    </tr>\n",
       "  </thead>\n",
       "  <tbody>\n",
       "    <tr>\n",
       "      <th>0</th>\n",
       "      <td>2016-01-05</td>\n",
       "      <td>WLTW</td>\n",
       "      <td>123.430000</td>\n",
       "      <td>125.839996</td>\n",
       "      <td>122.309998</td>\n",
       "      <td>126.250000</td>\n",
       "      <td>2163600.0</td>\n",
       "      <td>2016</td>\n",
       "      <td>1</td>\n",
       "    </tr>\n",
       "    <tr>\n",
       "      <th>1</th>\n",
       "      <td>2016-01-06</td>\n",
       "      <td>WLTW</td>\n",
       "      <td>125.239998</td>\n",
       "      <td>119.980003</td>\n",
       "      <td>119.940002</td>\n",
       "      <td>125.540001</td>\n",
       "      <td>2386400.0</td>\n",
       "      <td>2016</td>\n",
       "      <td>1</td>\n",
       "    </tr>\n",
       "    <tr>\n",
       "      <th>2</th>\n",
       "      <td>2016-01-07</td>\n",
       "      <td>WLTW</td>\n",
       "      <td>116.379997</td>\n",
       "      <td>114.949997</td>\n",
       "      <td>114.930000</td>\n",
       "      <td>119.739998</td>\n",
       "      <td>2489500.0</td>\n",
       "      <td>2016</td>\n",
       "      <td>1</td>\n",
       "    </tr>\n",
       "    <tr>\n",
       "      <th>3</th>\n",
       "      <td>2016-01-08</td>\n",
       "      <td>WLTW</td>\n",
       "      <td>115.480003</td>\n",
       "      <td>116.620003</td>\n",
       "      <td>113.500000</td>\n",
       "      <td>117.440002</td>\n",
       "      <td>2006300.0</td>\n",
       "      <td>2016</td>\n",
       "      <td>1</td>\n",
       "    </tr>\n",
       "    <tr>\n",
       "      <th>4</th>\n",
       "      <td>2016-01-11</td>\n",
       "      <td>WLTW</td>\n",
       "      <td>117.010002</td>\n",
       "      <td>114.970001</td>\n",
       "      <td>114.089996</td>\n",
       "      <td>117.330002</td>\n",
       "      <td>1408600.0</td>\n",
       "      <td>2016</td>\n",
       "      <td>1</td>\n",
       "    </tr>\n",
       "  </tbody>\n",
       "</table>\n",
       "</div>"
      ],
      "text/plain": [
       "        date symbol        open       close         low        high  \\\n",
       "0 2016-01-05   WLTW  123.430000  125.839996  122.309998  126.250000   \n",
       "1 2016-01-06   WLTW  125.239998  119.980003  119.940002  125.540001   \n",
       "2 2016-01-07   WLTW  116.379997  114.949997  114.930000  119.739998   \n",
       "3 2016-01-08   WLTW  115.480003  116.620003  113.500000  117.440002   \n",
       "4 2016-01-11   WLTW  117.010002  114.970001  114.089996  117.330002   \n",
       "\n",
       "      volume  year  month  \n",
       "0  2163600.0  2016      1  \n",
       "1  2386400.0  2016      1  \n",
       "2  2489500.0  2016      1  \n",
       "3  2006300.0  2016      1  \n",
       "4  1408600.0  2016      1  "
      ]
     },
     "execution_count": 2,
     "metadata": {},
     "output_type": "execute_result"
    }
   ],
   "source": [
    "df = pd.read_csv('prices.csv')\n",
    "df['date'] = pd.to_datetime(df['date'])\n",
    "\n",
    "# add year column and montn column\n",
    "df['year'] = df['date'].dt.year\n",
    "df['month'] = df['date'].dt.month\n",
    "\n",
    "df.head()"
   ]
  },
  {
   "cell_type": "markdown",
   "metadata": {},
   "source": [
    "Key column: date     \n",
    "Value column: symbol, open, close, low, high, volumn    \n",
    "According to VTFP 2.6, a key attribute acts as an index that is used to look up value attributes. Symbol is a categorical variable but one value could corresponding to mutiple records. Open, cloase, low, high, volumn are quantitative variables that may have duplicate values. Thus, only date satisfies the definition of key.\n",
    "\n",
    "# Task\n",
    "Targets are aspects of the data interest that are interest to the user. Actions define user goals.\n",
    "A low-level task of corelate - finding the trend of stock (price change, volume change) over time.\n",
    "\n",
    "# Visualization 1"
   ]
  },
  {
   "cell_type": "code",
   "execution_count": 3,
   "metadata": {},
   "outputs": [
    {
     "data": {
      "text/plain": [
       "Text(0, 0.5, 'Open Stock Price')"
      ]
     },
     "execution_count": 3,
     "metadata": {},
     "output_type": "execute_result"
    },
    {
     "data": {
      "image/png": "[encoded data removed]",
      "text/plain": [
       "<Figure size 864x432 with 1 Axes>"
      ]
     },
     "metadata": {
      "needs_background": "light"
     },
     "output_type": "display_data"
    }
   ],
   "source": [
    "plt.figure(figsize=(12,6))\n",
    "\n",
    "# group by year and calculate mean of open price\n",
    "df.groupby(pd.Grouper(key='year')).mean()['open'].sort_values(ascending=True).plot.bar()\n",
    "\n",
    "# show labels \n",
    "plt.title('Open Stock Price Change Over Time')\n",
    "plt.xlabel('Year')\n",
    "plt.ylabel('Open Stock Price')"
   ]
  },
  {
   "cell_type": "markdown",
   "metadata": {},
   "source": [
    "The average open stock price has a increasing trend by year.     \n",
    "The most important attributes should be encoded with the most effective channels in order to be most noticeable and the most effective is aligned spatial position (VAD page 101) so I sort the mean of hours-per-week from high to low. \n",
    "The key attribute, year, separates the marks along the horizontal spatial axis. The value attribute, average open stocj price, expresses the value with aligned vertical spatial position and line marks (VAD page 150).  \n",
    "Before plotting the interactive visualization, the bar plot can present us a overall image of the price trend over the year. If we do see a trend, we can do further analysis. For instance, we can break year into season or month to get a more detailed trend. \n",
    "\n",
    "\n",
    "# Visualization 2"
   ]
  },
  {
   "cell_type": "code",
   "execution_count": 4,
   "metadata": {},
   "outputs": [
    {
     "data": {
      "text/plain": [
       "Text(0.5, 1.0, 'Volume Proportion By Year')"
      ]
     },
     "execution_count": 4,
     "metadata": {},
     "output_type": "execute_result"
    },
    {
     "data": {
      "image/png": "[encoded data removed]",
      "text/plain": [
       "<Figure size 432x288 with 1 Axes>"
      ]
     },
     "metadata": {},
     "output_type": "display_data"
    }
   ],
   "source": [
    "# group by year and calculate sum of volume \n",
    "df.groupby(pd.Grouper(key='year')).sum()['volume'].plot.pie(autopct='%1.0f%%')\n",
    "\n",
    "# show x labels \n",
    "plt.title('Volume Proportion By Year')"
   ]
  },
  {
   "cell_type": "markdown",
   "metadata": {},
   "source": [
    "\n",
    "# Interactive Visualization 1"
   ]
  },
  {
   "cell_type": "code",
   "execution_count": 15,
   "metadata": {},
   "outputs": [
    {
     "name": "stdout",
     "output_type": "stream",
     "text": [
      "High five! You successfully sent some data to your account on plotly. View your plot in your browser at https://plot.ly/~admail1121/0 or inside your plot.ly account where it is named 'basic-line'\n"
     ]
    },
    {
     "data": {
      "text/html": [
       "<iframe id=\"igraph\" scrolling=\"no\" style=\"border:none;\" seamless=\"seamless\" src=\"https://plot.ly/~admail1121/2.embed\" height=\"525px\" width=\"100%\"></iframe>"
      ],
      "text/plain": [
       "<plotly.tools.PlotlyDisplay object>"
      ]
     },
     "execution_count": 15,
     "metadata": {},
     "output_type": "execute_result"
    }
   ],
   "source": [
    "# mean of open price by month\n",
    "df1 = df.groupby(pd.Grouper(key='date',freq='1M')).mean()['open'].reset_index(name = \"AVG_OPEN\")\n",
    "df1 = pd.DataFrame(df1)\n",
    "\n",
    "\n",
    "# mean of close price by month\n",
    "df2 = df.groupby(pd.Grouper(key='date',freq='1M')).mean()['close'].reset_index(name = \"AVG_CLOSE\")\n",
    "df2 = pd.DataFrame(df2)\n",
    "\n",
    "# mean of high price by month\n",
    "df3 = df.groupby(pd.Grouper(key='date',freq='1M')).mean()['high'].reset_index(name = \"AVG_HIGH\")\n",
    "df3 = pd.DataFrame(df3)\n",
    "\n",
    "# mean of low price by month\n",
    "df4 = df.groupby(pd.Grouper(key='date',freq='1M')).mean()['low'].reset_index(name = \"AVG_LOW\")\n",
    "df4 = pd.DataFrame(df4)\n",
    "\n",
    "#Create a trace\n",
    "trace = go.Scatter(\n",
    "    x = df1['date'],\n",
    "    y = df1['AVG_OPEN']\n",
    ")\n",
    "\n",
    "data = [trace]\n",
    "\n",
    "py.iplot(data, filename='basic-line')\n",
    "\n",
    "\n",
    "# Create traces\n",
    "trace0 = go.Scatter(\n",
    "    x = df1['date'],\n",
    "    y = df1['AVG_OPEN'],\n",
    "    line = dict(\n",
    "        color = ('rgb(255,255,0)'),\n",
    "        width = 1),\n",
    "    name = 'open'\n",
    ")\n",
    "trace1 = go.Scatter(\n",
    "    x = df2['date'],\n",
    "    y = df2['AVG_CLOSE'],\n",
    "    line = dict(\n",
    "        color = ('rgb(0,128,0)'),\n",
    "        width = 1),\n",
    "    name = 'close'\n",
    ")\n",
    "trace2 = go.Scatter(\n",
    "    x = df3['date'],\n",
    "    y = df3['AVG_HIGH'],\n",
    "    line = dict(\n",
    "        color = ('rgb(22, 96, 167)'),\n",
    "        width = 1,\n",
    "        dash = 'dot'),\n",
    "    name = 'high'\n",
    ")\n",
    "\n",
    "trace3 = go.Scatter(\n",
    "    x = df4['date'],\n",
    "    y = df4['AVG_LOW'],\n",
    "    line = dict(\n",
    "        color = ('rgb(205, 12, 24)'),\n",
    "        width = 1,\n",
    "        dash = 'dot'),\n",
    "    name = 'low'\n",
    ")\n",
    "\n",
    "data = [trace0, trace1, trace2, trace3]\n",
    "\n",
    "layout = go.Layout(\n",
    "    title='Stock Price Change 2010-2016',\n",
    "    xaxis=dict(\n",
    "        title='Year',\n",
    "        titlefont=dict(\n",
    "            family='Courier New, monospace',\n",
    "            size=18,\n",
    "            color='#7f7f7f'\n",
    "        )\n",
    "    ),\n",
    "    yaxis=dict(\n",
    "        title='Price',\n",
    "        titlefont=dict(\n",
    "            family='Courier New, monospace',\n",
    "            size=18,\n",
    "            color='#7f7f7f'\n",
    "        )\n",
    "    )\n",
    ")\n",
    "fig = go.Figure(data=data, layout=layout)\n",
    "\n",
    "py.iplot(fig, filename='line-mode')\n"
   ]
  },
  {
   "cell_type": "markdown",
   "metadata": {},
   "source": [
    "  The identity channel of hue is extremely effective for categorical data and showing groupings. It is the highest ranked channel for categorical data after spatial position (VAD page 224). I chose blue, red, yellow and green, colors from hue, to seperate the classes. Line charts is good for ordered keys but not categorical keys. In our case, it's time.  \n",
    "  The plot shows the price (open, close, high, low) change by month from 2010 to 2016. Overall, the stock price is increasing as time goes by except for two big drop in late 2011 and early 2016.   \n",
    "  The idiom of line charts augments dot charts with line connection marks running between the points. The visualization shows a line chart plotting the stock price over several years. The trend of constantly increasing price, followed\n",
    "by loss in the early 2016, is emphasized by the connecting lines (VAD page 155).\n",
    "\n",
    "# Interactive Visualization 2"
   ]
  },
  {
   "cell_type": "code",
   "execution_count": 43,
   "metadata": {},
   "outputs": [
    {
     "data": {
      "text/html": [
       "<iframe id=\"igraph\" scrolling=\"no\" style=\"border:none;\" seamless=\"seamless\" src=\"https://plot.ly/~admail1121/10.embed\" height=\"525px\" width=\"100%\"></iframe>"
      ],
      "text/plain": [
       "<plotly.tools.PlotlyDisplay object>"
      ]
     },
     "execution_count": 43,
     "metadata": {},
     "output_type": "execute_result"
    }
   ],
   "source": [
    "# group by year and calculate sum of volume \n",
    "df_v = df.groupby(pd.Grouper(key='year')).sum()['volume'].reset_index(name = \"SUM_VOL\")\n",
    "\n",
    "\n",
    "labels = df_v['year']\n",
    "values = df_v['SUM_VOL']\n",
    "\n",
    "trace = go.Pie(labels=labels, values=values,hoverinfo='label+value+percent', textinfo='percent',\n",
    "              textfont=dict(size=20))\n",
    "\n",
    "data = [trace]\n",
    "layout = go.Layout(title='Stock Volumn Change By Year 2010-2016')\n",
    "fig = go.Figure(data=data, layout=layout)\n",
    "\n",
    "\n",
    "py.iplot(fig, filename='basic_pie_chart')\n"
   ]
  },
  {
   "cell_type": "markdown",
   "metadata": {},
   "source": [
    "Pie chart is the most commonly used radial statistical graphic. It encodes single attribute with area marks\n",
    "and the angle channel. The most useful property of pie charts is that they show the relative contribution of parts to a whole. The single pie chart showing aggregate stock data to a normalized stacked bar chart and a stacked bar chart for stock volume from 2010 to 2016 (VAD page 170).     \n",
    "The plot shows that 2010 occupies the most volume among the years.     \n",
    "I chose bar plot because it is good at solving part–whole relationship task. It's a relatviely intuitive way to observe the relation between the year and volume before making the interactive plot. We can tell that unlike to the open price, the volumn decreases as time pass by."
   ]
  }
 ],
 "metadata": {
  "kernelspec": {
   "display_name": "Python 3",
   "language": "python",
   "name": "python3"
  },
  "language_info": {
   "codemirror_mode": {
    "name": "ipython",
    "version": 3
   },
   "file_extension": ".py",
   "mimetype": "text/x-python",
   "name": "python",
   "nbconvert_exporter": "python",
   "pygments_lexer": "ipython3",
   "version": "3.7.1"
  }
 },
 "nbformat": 4,
 "nbformat_minor": 2
}
