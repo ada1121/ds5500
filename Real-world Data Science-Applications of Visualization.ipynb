{
 "cells": [
  {
   "cell_type": "code",
   "execution_count": 1,
   "metadata": {},
   "outputs": [],
   "source": [
    "import pandas as pd\n",
    "import numpy as np\n",
    "import matplotlib.pyplot as plt\n",
    "import matplotlib.colors as colors\n",
    "import matplotlib.cm as cmx\n",
    "import seaborn as sns\n",
    "\n",
    "import nltk\n",
    "from nltk.corpus import stopwords\n",
    "from sklearn.decomposition import LatentDirichletAllocation as LDA\n",
    "from sklearn.feature_extraction.text import TfidfVectorizer\n",
    "from sklearn.model_selection import train_test_split\n",
    "from sklearn.preprocessing import StandardScaler\n",
    "from sklearn.linear_model import Ridge\n",
    "from sklearn.metrics import mean_squared_error\n",
    "from sklearn.model_selection import cross_validate\n",
    "from sklearn.linear_model import Lasso\n",
    "from sklearn.ensemble import GradientBoostingRegressor\n",
    "import sklearn\n",
    "from math import sqrt\n",
    "import seaborn as sns\n",
    "import warnings\n",
    "from sklearn.model_selection import GridSearchCV\n",
    "\n",
    "warnings.filterwarnings(\"ignore\")\n"
   ]
  },
  {
   "cell_type": "markdown",
   "metadata": {},
   "source": [
    "# Load Data"
   ]
  },
  {
   "cell_type": "code",
   "execution_count": 2,
   "metadata": {},
   "outputs": [],
   "source": [
    "df = pd.read_csv(\"winemag-data-130k-v2.csv\")"
   ]
  },
  {
   "cell_type": "code",
   "execution_count": 3,
   "metadata": {},
   "outputs": [
    {
     "data": {
      "text/html": [
       "<div>\n",
       "<style scoped>\n",
       "    .dataframe tbody tr th:only-of-type {\n",
       "        vertical-align: middle;\n",
       "    }\n",
       "\n",
       "    .dataframe tbody tr th {\n",
       "        vertical-align: top;\n",
       "    }\n",
       "\n",
       "    .dataframe thead th {\n",
       "        text-align: right;\n",
       "    }\n",
       "</style>\n",
       "<table border=\"1\" class=\"dataframe\">\n",
       "  <thead>\n",
       "    <tr style=\"text-align: right;\">\n",
       "      <th></th>\n",
       "      <th>Unnamed: 0</th>\n",
       "      <th>country</th>\n",
       "      <th>description</th>\n",
       "      <th>designation</th>\n",
       "      <th>points</th>\n",
       "      <th>price</th>\n",
       "      <th>province</th>\n",
       "      <th>region_1</th>\n",
       "      <th>region_2</th>\n",
       "      <th>taster_name</th>\n",
       "      <th>taster_twitter_handle</th>\n",
       "      <th>title</th>\n",
       "      <th>variety</th>\n",
       "      <th>winery</th>\n",
       "    </tr>\n",
       "  </thead>\n",
       "  <tbody>\n",
       "    <tr>\n",
       "      <th>0</th>\n",
       "      <td>0</td>\n",
       "      <td>Italy</td>\n",
       "      <td>Aromas include tropical fruit, broom, brimston...</td>\n",
       "      <td>Vulkà Bianco</td>\n",
       "      <td>87</td>\n",
       "      <td>NaN</td>\n",
       "      <td>Sicily &amp; Sardinia</td>\n",
       "      <td>Etna</td>\n",
       "      <td>NaN</td>\n",
       "      <td>Kerin O’Keefe</td>\n",
       "      <td>@kerinokeefe</td>\n",
       "      <td>Nicosia 2013 Vulkà Bianco  (Etna)</td>\n",
       "      <td>White Blend</td>\n",
       "      <td>Nicosia</td>\n",
       "    </tr>\n",
       "    <tr>\n",
       "      <th>1</th>\n",
       "      <td>1</td>\n",
       "      <td>Portugal</td>\n",
       "      <td>This is ripe and fruity, a wine that is smooth...</td>\n",
       "      <td>Avidagos</td>\n",
       "      <td>87</td>\n",
       "      <td>15.0</td>\n",
       "      <td>Douro</td>\n",
       "      <td>NaN</td>\n",
       "      <td>NaN</td>\n",
       "      <td>Roger Voss</td>\n",
       "      <td>@vossroger</td>\n",
       "      <td>Quinta dos Avidagos 2011 Avidagos Red (Douro)</td>\n",
       "      <td>Portuguese Red</td>\n",
       "      <td>Quinta dos Avidagos</td>\n",
       "    </tr>\n",
       "    <tr>\n",
       "      <th>2</th>\n",
       "      <td>2</td>\n",
       "      <td>US</td>\n",
       "      <td>Tart and snappy, the flavors of lime flesh and...</td>\n",
       "      <td>NaN</td>\n",
       "      <td>87</td>\n",
       "      <td>14.0</td>\n",
       "      <td>Oregon</td>\n",
       "      <td>Willamette Valley</td>\n",
       "      <td>Willamette Valley</td>\n",
       "      <td>Paul Gregutt</td>\n",
       "      <td>@paulgwine</td>\n",
       "      <td>Rainstorm 2013 Pinot Gris (Willamette Valley)</td>\n",
       "      <td>Pinot Gris</td>\n",
       "      <td>Rainstorm</td>\n",
       "    </tr>\n",
       "    <tr>\n",
       "      <th>3</th>\n",
       "      <td>3</td>\n",
       "      <td>US</td>\n",
       "      <td>Pineapple rind, lemon pith and orange blossom ...</td>\n",
       "      <td>Reserve Late Harvest</td>\n",
       "      <td>87</td>\n",
       "      <td>13.0</td>\n",
       "      <td>Michigan</td>\n",
       "      <td>Lake Michigan Shore</td>\n",
       "      <td>NaN</td>\n",
       "      <td>Alexander Peartree</td>\n",
       "      <td>NaN</td>\n",
       "      <td>St. Julian 2013 Reserve Late Harvest Riesling ...</td>\n",
       "      <td>Riesling</td>\n",
       "      <td>St. Julian</td>\n",
       "    </tr>\n",
       "    <tr>\n",
       "      <th>4</th>\n",
       "      <td>4</td>\n",
       "      <td>US</td>\n",
       "      <td>Much like the regular bottling from 2012, this...</td>\n",
       "      <td>Vintner's Reserve Wild Child Block</td>\n",
       "      <td>87</td>\n",
       "      <td>65.0</td>\n",
       "      <td>Oregon</td>\n",
       "      <td>Willamette Valley</td>\n",
       "      <td>Willamette Valley</td>\n",
       "      <td>Paul Gregutt</td>\n",
       "      <td>@paulgwine</td>\n",
       "      <td>Sweet Cheeks 2012 Vintner's Reserve Wild Child...</td>\n",
       "      <td>Pinot Noir</td>\n",
       "      <td>Sweet Cheeks</td>\n",
       "    </tr>\n",
       "  </tbody>\n",
       "</table>\n",
       "</div>"
      ],
      "text/plain": [
       "   Unnamed: 0   country                                        description  \\\n",
       "0           0     Italy  Aromas include tropical fruit, broom, brimston...   \n",
       "1           1  Portugal  This is ripe and fruity, a wine that is smooth...   \n",
       "2           2        US  Tart and snappy, the flavors of lime flesh and...   \n",
       "3           3        US  Pineapple rind, lemon pith and orange blossom ...   \n",
       "4           4        US  Much like the regular bottling from 2012, this...   \n",
       "\n",
       "                          designation  points  price           province  \\\n",
       "0                        Vulkà Bianco      87    NaN  Sicily & Sardinia   \n",
       "1                            Avidagos      87   15.0              Douro   \n",
       "2                                 NaN      87   14.0             Oregon   \n",
       "3                Reserve Late Harvest      87   13.0           Michigan   \n",
       "4  Vintner's Reserve Wild Child Block      87   65.0             Oregon   \n",
       "\n",
       "              region_1           region_2         taster_name  \\\n",
       "0                 Etna                NaN       Kerin O’Keefe   \n",
       "1                  NaN                NaN          Roger Voss   \n",
       "2    Willamette Valley  Willamette Valley        Paul Gregutt   \n",
       "3  Lake Michigan Shore                NaN  Alexander Peartree   \n",
       "4    Willamette Valley  Willamette Valley        Paul Gregutt   \n",
       "\n",
       "  taster_twitter_handle                                              title  \\\n",
       "0          @kerinokeefe                  Nicosia 2013 Vulkà Bianco  (Etna)   \n",
       "1            @vossroger      Quinta dos Avidagos 2011 Avidagos Red (Douro)   \n",
       "2           @paulgwine       Rainstorm 2013 Pinot Gris (Willamette Valley)   \n",
       "3                   NaN  St. Julian 2013 Reserve Late Harvest Riesling ...   \n",
       "4           @paulgwine   Sweet Cheeks 2012 Vintner's Reserve Wild Child...   \n",
       "\n",
       "          variety               winery  \n",
       "0     White Blend              Nicosia  \n",
       "1  Portuguese Red  Quinta dos Avidagos  \n",
       "2      Pinot Gris            Rainstorm  \n",
       "3        Riesling           St. Julian  \n",
       "4      Pinot Noir         Sweet Cheeks  "
      ]
     },
     "execution_count": 3,
     "metadata": {},
     "output_type": "execute_result"
    }
   ],
   "source": [
    "df.head()"
   ]
  },
  {
   "cell_type": "markdown",
   "metadata": {},
   "source": [
    "# Visualization 1"
   ]
  },
  {
   "cell_type": "code",
   "execution_count": 4,
   "metadata": {
    "scrolled": false
   },
   "outputs": [
    {
     "data": {
      "text/plain": [
       "Text(0, 0.5, 'Average Price')"
      ]
     },
     "execution_count": 4,
     "metadata": {},
     "output_type": "execute_result"
    },
    {
     "data": {
      "image/png": "[encoded data removed]",
      "text/plain": [
       "<Figure size 1440x720 with 1 Axes>"
      ]
     },
     "metadata": {
      "needs_background": "light"
     },
     "output_type": "display_data"
    }
   ],
   "source": [
    "plt.figure(figsize=(20,10))\n",
    "\n",
    "# group by year and calculate mean of open price\n",
    "df.groupby(pd.Grouper(key='country')).mean()['price'].sort_values(ascending=False).plot.bar(color='steelblue')\n",
    "\n",
    "# show labels \n",
    "plt.title('Wine Price By Country')\n",
    "plt.xlabel('Country')\n",
    "plt.ylabel('Average Price')"
   ]
  },
  {
   "cell_type": "markdown",
   "metadata": {},
   "source": [
    "The most important attributes should be encoded with the most effective channels in order to be most noticeable and the most effective is aligned spatial position (VAD page 101) so I sort the mean of wine from high to low. The key attribute, country, separates the marks along the horizontal spatial axis. The value attribute, average price, expresses the value with aligned vertical spatial position and line marks.  \n",
    "The bar plot shows that Switzerland has highest wine price than other countries.\n",
    "\n",
    "# Visualization 2"
   ]
  },
  {
   "cell_type": "code",
   "execution_count": 5,
   "metadata": {},
   "outputs": [
    {
     "data": {
      "image/png": "[encoded data removed]",
      "text/plain": [
       "<Figure size 1440x720 with 1 Axes>"
      ]
     },
     "metadata": {
      "needs_background": "light"
     },
     "output_type": "display_data"
    }
   ],
   "source": [
    "# scatter plot point and price\n",
    "plt.figure(figsize=(20,10))\n",
    "plt.scatter(df['points'], df['price'],alpha=0.5)\n",
    "plt.title('Wine Price and Points')\n",
    "plt.xlabel('Points')\n",
    "plt.ylabel('Price')\n",
    "plt.show()"
   ]
  },
  {
   "cell_type": "markdown",
   "metadata": {},
   "source": [
    "I applied the scatter plot to show the relationship between\n",
    "the price and point. The scatter plot expresses values with horizontal and vertical\n",
    "spatial position and point marks and fulfill the task of finding trends, outliers, and\n",
    "locate cluster(VAD page 148).\n",
    "From the plot, we can tell that price is tend to be higher when points get higher."
   ]
  },
  {
   "cell_type": "markdown",
   "metadata": {},
   "source": [
    "# Preprocessing\n"
   ]
  },
  {
   "cell_type": "code",
   "execution_count": 6,
   "metadata": {
    "scrolled": true
   },
   "outputs": [
    {
     "data": {
      "text/plain": [
       "(129971, 14)"
      ]
     },
     "execution_count": 6,
     "metadata": {},
     "output_type": "execute_result"
    }
   ],
   "source": [
    "df.shape"
   ]
  },
  {
   "cell_type": "code",
   "execution_count": 7,
   "metadata": {},
   "outputs": [
    {
     "data": {
      "text/plain": [
       "Unnamed: 0                  NaN\n",
       "country                      43\n",
       "description              119955\n",
       "designation               37979\n",
       "points                      NaN\n",
       "price                       NaN\n",
       "province                    425\n",
       "region_1                   1229\n",
       "region_2                     17\n",
       "taster_name                  19\n",
       "taster_twitter_handle        15\n",
       "title                    118840\n",
       "variety                     707\n",
       "winery                    16757\n",
       "Name: unique, dtype: object"
      ]
     },
     "execution_count": 7,
     "metadata": {},
     "output_type": "execute_result"
    }
   ],
   "source": [
    "df.describe(include='all').loc['unique', :]"
   ]
  },
  {
   "cell_type": "code",
   "execution_count": 8,
   "metadata": {},
   "outputs": [
    {
     "data": {
      "text/plain": [
       "Unnamed: 0                   0\n",
       "country                     63\n",
       "description                  0\n",
       "designation              37465\n",
       "points                       0\n",
       "price                     8996\n",
       "province                    63\n",
       "region_1                 21247\n",
       "region_2                 79460\n",
       "taster_name              26244\n",
       "taster_twitter_handle    31213\n",
       "title                        0\n",
       "variety                      1\n",
       "winery                       0\n",
       "dtype: int64"
      ]
     },
     "execution_count": 8,
     "metadata": {},
     "output_type": "execute_result"
    }
   ],
   "source": [
    "df.isnull().sum() "
   ]
  },
  {
   "cell_type": "code",
   "execution_count": 9,
   "metadata": {},
   "outputs": [],
   "source": [
    "# Clean data \n",
    "df = df.dropna()\n",
    "df = df.drop(columns = ['Unnamed: 0','region_2', 'designation', \"region_1\", \n",
    "                        \"taster_name\", \"taster_twitter_handle\", 'title', \"winery\"])"
   ]
  },
  {
   "cell_type": "markdown",
   "metadata": {},
   "source": [
    "Drop NAs and drop Unnamed as it's just index column.  \n",
    "Drop taster_twitter_handle is one-to-one with taster_name. Drop taster_name and region_1 becase they have too many NAs.  \n",
    "Drop designation, winery, title becasue they have too many distinct values. "
   ]
  },
  {
   "cell_type": "code",
   "execution_count": 10,
   "metadata": {},
   "outputs": [],
   "source": [
    "# Take sample to shortern the runtime\n",
    "df1 = df.sample(n=1000)"
   ]
  },
  {
   "cell_type": "markdown",
   "metadata": {},
   "source": [
    "## Remove stop words"
   ]
  },
  {
   "cell_type": "code",
   "execution_count": 11,
   "metadata": {},
   "outputs": [],
   "source": [
    "# Remove stop word\n",
    "stop_words = stopwords.words('english')\n",
    "df1['description'] =  df1['description'].apply(lambda x: ' '.join([word for word in x.split() if word not in (stop_words)]))\n"
   ]
  },
  {
   "cell_type": "markdown",
   "metadata": {},
   "source": [
    "## Split the dataset randomly into train/test (80/20)\n"
   ]
  },
  {
   "cell_type": "code",
   "execution_count": 12,
   "metadata": {},
   "outputs": [],
   "source": [
    "train, test = train_test_split(df1, test_size=0.2, random_state = 0)\n",
    "train = train.reset_index(drop=True)\n",
    "test = test.reset_index(drop=True)"
   ]
  },
  {
   "cell_type": "code",
   "execution_count": 13,
   "metadata": {},
   "outputs": [],
   "source": [
    "# One hot encode for categorical features\n",
    "train = pd.get_dummies(train, columns=['country', \"province\", \"variety\"])\n",
    "test = pd.get_dummies(test, columns=['country', \"province\", \"variety\"])"
   ]
  },
  {
   "cell_type": "code",
   "execution_count": 14,
   "metadata": {},
   "outputs": [],
   "source": [
    "# Instantiate encoder/scaler\n",
    "scaler = StandardScaler()\n",
    "train[['price','points']] = scaler.fit_transform(train[['price','points']])\n",
    "test[['price','points']] = scaler.transform(test[['price','points']])"
   ]
  },
  {
   "cell_type": "code",
   "execution_count": 15,
   "metadata": {},
   "outputs": [],
   "source": [
    "# TFIDF\n",
    "vectorizer = TfidfVectorizer(sublinear_tf = True)\n",
    "train_d = vectorizer.fit_transform(train['description'])\n",
    "test_d = vectorizer.transform(test['description'])\n",
    "\n",
    "# Drop the description column\n",
    "train = train.drop(columns = [\"description\"])\n",
    "test = test.drop(columns = [\"description\"])\n",
    "\n",
    "train_x= train.drop(columns = ['points'])\n",
    "train_validate = list(train['points'])\n",
    "test_x = test.drop(columns = ['points'])\n",
    "test_validate = list(test['points'])\n",
    "\n",
    "# LDA\n",
    "lda = LDA()\n",
    "train_d = lda.fit_transform(train_d)\n",
    "test_d = lda.transform(test_d)\n",
    "\n",
    "# concat\n",
    "train_1 = pd.DataFrame({str(i+1): train_d[:,i] for i in range(train_d.shape[1])})\n",
    "test_1 = pd.DataFrame({str(i+1): test_d[:,i] for i in range(test_d.shape[1])})\n",
    "train_x = pd.concat([train_x, train_1], axis = 1)\n",
    "test_x = pd.concat([test_x, test_1], axis = 1)\n",
    "feature_names = np.array(train_x.columns)\n",
    "train_x = train_x.values\n",
    "test_x = test_x.values"
   ]
  },
  {
   "cell_type": "markdown",
   "metadata": {},
   "source": [
    "# Modeling\n",
    "## Set initial values"
   ]
  },
  {
   "cell_type": "code",
   "execution_count": 16,
   "metadata": {},
   "outputs": [],
   "source": [
    "alphas = 10**np.linspace(10,-2,100)*0.5\n",
    "\n",
    "ridge_rmse = lasso_rmse =  []\n",
    "ridge_min_rmse =  lasso_min_rmse = 100\n",
    "ridge_parameter = lasso_parameter = 0\n",
    "\n",
    "df_scores = pd.DataFrame(columns=['model', 'score'])\n",
    "df_scores_lasso = pd.DataFrame(columns=['model', 'score'])\n",
    "df_scores_gbr = pd.DataFrame(columns=['model', 'score'])"
   ]
  },
  {
   "cell_type": "markdown",
   "metadata": {},
   "source": [
    "# Ridge Regression"
   ]
  },
  {
   "cell_type": "code",
   "execution_count": 17,
   "metadata": {},
   "outputs": [
    {
     "name": "stdout",
     "output_type": "stream",
     "text": [
      "alpha* = 37.82, RMSE= 0.8654.\n"
     ]
    }
   ],
   "source": [
    "for a in alphas:\n",
    "    ridge = Ridge()\n",
    "    ridge.set_params(alpha = a)\n",
    "    ridge_score = cross_validate(ridge, train_x, train_validate, cv=10, \n",
    "                                 scoring=('neg_mean_absolute_error'))['test_score']\n",
    "    ridge_rmse.append(np.sqrt(np.abs(ridge_score)))  \n",
    "    if np.mean(ridge_rmse[-1]) < ridge_min_rmse:\n",
    "        ridge_min_rmse = np.mean(ridge_rmse[-1])\n",
    "        ridge_parameter = a\n",
    "        df_scores['model'] = 'Ridge'\n",
    "        df_scores['score'] = ridge_rmse[-1]\n",
    "        \n",
    "print(\"alpha* = %.2f,\"%(ridge_parameter), \"RMSE= %.4f.\"%(ridge_min_rmse))"
   ]
  },
  {
   "cell_type": "code",
   "execution_count": 50,
   "metadata": {},
   "outputs": [
    {
     "name": "stdout",
     "output_type": "stream",
     "text": [
      "0.7282440740368838\n"
     ]
    }
   ],
   "source": [
    "# Fit with the most optimal\n",
    "ridge_op = Ridge(alpha=37.82)\n",
    "ridge_op.fit(test_x, test_validate)\n",
    "print(np.sqrt(mean_squared_error(ridge_op.predict(test_x),test_validate)))"
   ]
  },
  {
   "cell_type": "markdown",
   "metadata": {},
   "source": [
    "# Lasso Regression\n"
   ]
  },
  {
   "cell_type": "code",
   "execution_count": 39,
   "metadata": {},
   "outputs": [
    {
     "name": "stdout",
     "output_type": "stream",
     "text": [
      "alpha* = 0.19, RMSE= 0.8699.\n"
     ]
    }
   ],
   "source": [
    "for a in alphas:\n",
    "    lasso = Lasso()\n",
    "    lasso.set_params(alpha = a)\n",
    "    lasso_score = cross_validate(lasso, train_x, train_validate, cv=10, \n",
    "                                 scoring=('neg_mean_absolute_error'))['test_score']\n",
    "    lasso_rmse.append(np.sqrt(np.abs(lasso_score)))  \n",
    "    if np.mean(lasso_rmse[-1]) <lasso_min_rmse:\n",
    "        lasso_min_rmse = np.mean(lasso_rmse[-1])\n",
    "        lasso_parameter = a\n",
    "        df_scores_lasso['model'] = 'Lasso'\n",
    "        df_scores_lasso['score'] = lasso_rmse[-1]\n",
    "\n",
    "        \n",
    "print(\"alpha* = %.2f,\"%(lasso_parameter), \"RMSE= %.4f.\"%( lasso_min_rmse))"
   ]
  },
  {
   "cell_type": "code",
   "execution_count": 49,
   "metadata": {},
   "outputs": [
    {
     "name": "stdout",
     "output_type": "stream",
     "text": [
      "0.5914897276606116\n"
     ]
    }
   ],
   "source": [
    "# Fit with the most optimal\n",
    "lasso_op = Lasso(alpha=0.19)\n",
    "lasso_op.fit(test_x, test_validate)\n",
    "print(np.sqrt(mean_squared_error(lasso_op.predict(test_x),test_validate)))"
   ]
  },
  {
   "cell_type": "markdown",
   "metadata": {},
   "source": [
    "# Gradident Boosting Regression"
   ]
  },
  {
   "cell_type": "code",
   "execution_count": 42,
   "metadata": {},
   "outputs": [
    {
     "name": "stdout",
     "output_type": "stream",
     "text": [
      "n_estimator* = 10.00, depth* = 50.00, RMSE = 0.8745.\n"
     ]
    }
   ],
   "source": [
    "num = np.linspace(10, 100, 10)\n",
    "max_depth = np.linspace(5, 50, 10)\n",
    "gbr_rmse = []\n",
    "gbr_min_rmse = 100\n",
    "gbr_paramter = 0\n",
    "score_gbr = 100\n",
    "\n",
    "for n in num:\n",
    "    for depth in max_depth:\n",
    "        GBR = GradientBoostingRegressor(n_estimators=int(n), max_depth = int(depth))\n",
    "        gbr_scores = cross_validate(GBR, train_x, train_validate, cv=10, scoring=('neg_mean_absolute_error'))['test_score']\n",
    "        gbr_rmse.append(np.sqrt(np.abs(gbr_scores)))   \n",
    "        if np.mean(gbr_rmse[-1]) < gbr_min_rmse:\n",
    "            gbr_min_rmse = np.mean(gbr_rmse[-1])\n",
    "            gbr_paramter = [n, depth]\n",
    "            df_scores_gbr['model'] = 'Gradient Boosting'\n",
    "            df_scores_gbr['score'] = gbr_rmse[-1]\n",
    "            \n",
    "print(\"n_estimator* = %.2f,\"%(gbr_paramter[0]), \"depth* = %.2f,\"%(gbr_paramter[1]), \"RMSE = %.4f.\"%(gbr_min_rmse))"
   ]
  },
  {
   "cell_type": "code",
   "execution_count": 48,
   "metadata": {},
   "outputs": [
    {
     "name": "stdout",
     "output_type": "stream",
     "text": [
      "0.3231450891865535\n"
     ]
    }
   ],
   "source": [
    "# Fit with the most optimal\n",
    "gbr_op = GradientBoostingRegressor(n_estimators=10, max_depth = 50)\n",
    "gbr_op.fit(test_x, test_validate)\n",
    "print(np.sqrt(mean_squared_error(gbr_op.predict(test_x),test_validate)))"
   ]
  },
  {
   "cell_type": "markdown",
   "metadata": {},
   "source": [
    "# Visualization 3"
   ]
  },
  {
   "cell_type": "code",
   "execution_count": 46,
   "metadata": {},
   "outputs": [
    {
     "data": {
      "text/plain": [
       "Text(0, 0.5, 'RMSE')"
      ]
     },
     "execution_count": 46,
     "metadata": {},
     "output_type": "execute_result"
    },
    {
     "data": {
      "image/png": "[encoded data removed]",
      "text/plain": [
       "<Figure size 432x288 with 1 Axes>"
      ]
     },
     "metadata": {
      "needs_background": "light"
     },
     "output_type": "display_data"
    }
   ],
   "source": [
    "df_scores = df_scores.append(df_scores_lasso).append(df_scores_gbr)\n",
    "\n",
    "df_scores.boxplot(by='model',  column=['score'],   grid=True)\n",
    "\n",
    "plt.title(\"Performance Among Three Models\", fontsize=10)\n",
    "plt.xlabel('Model')\n",
    "plt.ylabel('RMSE')\n"
   ]
  },
  {
   "cell_type": "markdown",
   "metadata": {},
   "source": [
    "The boxplot is an idiom presenting summary statistics for the distribution of a quantitative attribute, using five derived values. Original attribute expressing derivedattribute values using vertical spatial position, with1D list alignment of glyphs into separated with horizontal spatial position (VAD page 309).   \n",
    "Graident Boosting Regression has lowest mean RMSE value and it has best performance"
   ]
  },
  {
   "cell_type": "code",
   "execution_count": 75,
   "metadata": {},
   "outputs": [
    {
     "data": {
      "text/plain": [
       "Text(0, 0.5, 'Percentage')"
      ]
     },
     "execution_count": 75,
     "metadata": {},
     "output_type": "execute_result"
    },
    {
     "data": {
      "image/png": "[encoded data removed]",
      "text/plain": [
       "<Figure size 432x288 with 1 Axes>"
      ]
     },
     "metadata": {
      "needs_background": "light"
     },
     "output_type": "display_data"
    }
   ],
   "source": [
    "importance = gbr_op.feature_importances_\n",
    "importance = 100 *importance / importance.sum()\n",
    "importance = pd.DataFrame(importance)\n",
    "importance[0].sort_values(ascending=False).plot.bar(color='steelblue',rot=0)\n",
    "plt.title(\"Feature Importance\")\n",
    "plt.xlabel(\"Feature\")\n",
    "plt.ylabel(\"Percentage\")"
   ]
  },
  {
   "cell_type": "markdown",
   "metadata": {},
   "source": [
    "The most important attributes should be encoded with the most effective channels in order to be most noticeable and the most effective is aligned spatial position (VAD page 101) so I sort the percentage of a feature capture among all other features. The key attribute, feature, separates the marks along the horizontal spatial axis. The value attribute, percentage, expresses the value with aligned vertical spatial position and line marks (VAD page 150). Latent varialbes are the most importance features in prediction.\n",
    "\n"
   ]
  }
 ],
 "metadata": {
  "kernelspec": {
   "display_name": "Python 3",
   "language": "python",
   "name": "python3"
  },
  "language_info": {
   "codemirror_mode": {
    "name": "ipython",
    "version": 3
   },
   "file_extension": ".py",
   "mimetype": "text/x-python",
   "name": "python",
   "nbconvert_exporter": "python",
   "pygments_lexer": "ipython3",
   "version": "3.7.1"
  }
 },
 "nbformat": 4,
 "nbformat_minor": 2
}
